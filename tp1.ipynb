{
 "cells": [
  {
   "cell_type": "code",
   "execution_count": 1,
   "metadata": {},
   "outputs": [],
   "source": [
    "\n",
    "import random\n",
    "\n",
    "import matplotlib.pyplot as plt\n",
    "\n",
    "\n"
   ]
  },
  {
   "cell_type": "code",
   "execution_count": 2,
   "metadata": {},
   "outputs": [],
   "source": [
    "def Xn(t,n):\n",
    "    x=0\n",
    "    for j in t:\n",
    "        x=x+j\n",
    "    return x/n\n"
   ]
  },
  {
   "cell_type": "code",
   "execution_count": null,
   "metadata": {},
   "outputs": [],
   "source": []
  },
  {
   "cell_type": "code",
   "execution_count": 3,
   "metadata": {},
   "outputs": [],
   "source": [
    "def On(t,n,xn):\n",
    "    tita=0\n",
    "    for i in t:\n",
    "        tita=tita+(i-xn)**2\n",
    "    return tita/n\n",
    "    "
   ]
  },
  {
   "cell_type": "code",
   "execution_count": null,
   "metadata": {},
   "outputs": [],
   "source": []
  },
  {
   "cell_type": "code",
   "execution_count": 4,
   "metadata": {},
   "outputs": [],
   "source": [
    "def creat_alea_table(n):\n",
    "    t=[]\n",
    "    for i in range(n+1):\n",
    "        t.append(random.uniform(0, 1))\n",
    "    return t"
   ]
  },
  {
   "cell_type": "code",
   "execution_count": 6,
   "metadata": {},
   "outputs": [
    {
     "data": {
      "image/png": "[encoded data removed]",
      "text/plain": [
       "<Figure size 432x288 with 1 Axes>"
      ]
     },
     "metadata": {
      "needs_background": "light"
     },
     "output_type": "display_data"
    },
    {
     "name": "stdout",
     "output_type": "stream",
     "text": [
      "valeur aleatoire 1000 leur moyenne 0.5049196087704293 leur variance 0.0864945220242253\n",
      "valeur aleatoire 10000 leur moyenne 0.4952257884276859 leur variance 0.08280833289610125\n",
      "valeur aleatoire 100000 leur moyenne 0.49970408011636736 leur variance 0.08336847780341929\n",
      "valeur aleatoire 1000000 leur moyenne 0.5001121538890517 leur variance 0.08327149637058938\n"
     ]
    }
   ],
   "source": [
    "n=[1000,10000,100000,1000000]\n",
    "titatable=[]\n",
    "xn=[]\n",
    "for i in n:\n",
    "    t=creat_alea_table(i)\n",
    "    xn.append(Xn(t,i))\n",
    "    titatable.append(On(t,i,Xn(t,i)))\n",
    "    \n",
    "plt.plot(n,titatable,'r*')\n",
    "plt.plot(n,xn,'b*')\n",
    "plt.show()\n",
    "for i in range(len(n)):\n",
    "    print ('valeur aleatoire {} leur moyenne {} leur variance {}'.format(n[i],xn[i],titatable[i]))"
   ]
  },
  {
   "cell_type": "code",
   "execution_count": 8,
   "metadata": {},
   "outputs": [],
   "source": [
    "import numpy as np\n",
    " "
   ]
  },
  {
   "cell_type": "code",
   "execution_count": 9,
   "metadata": {},
   "outputs": [],
   "source": [
    "def creat_alea_table(n,lamda):\n",
    "    t=np.random.exponential(1/lamda,n)\n",
    "    return t"
   ]
  },
  {
   "cell_type": "code",
   "execution_count": null,
   "metadata": {},
   "outputs": [],
   "source": []
  },
  {
   "cell_type": "code",
   "execution_count": null,
   "metadata": {},
   "outputs": [],
   "source": []
  },
  {
   "cell_type": "code",
   "execution_count": 11,
   "metadata": {},
   "outputs": [
    {
     "name": "stdout",
     "output_type": "stream",
     "text": [
      "50.01121538890518\n"
     ]
    }
   ],
   "source": [
    "print(Xn(t,10000))"
   ]
  },
  {
   "cell_type": "code",
   "execution_count": 12,
   "metadata": {},
   "outputs": [
    {
     "name": "stderr",
     "output_type": "stream",
     "text": [
      "/home/bacemabr/anaconda3/lib/python3.7/site-packages/ipykernel_launcher.py:12: MatplotlibDeprecationWarning: Adding an axes using the same arguments as a previous axes currently reuses the earlier instance.  In a future version, a new instance will always be created and returned.  Meanwhile, this warning can be suppressed, and the future behavior ensured, by passing a unique label to each axes instance.\n",
      "  if sys.path[0] == '':\n",
      "/home/bacemabr/anaconda3/lib/python3.7/site-packages/ipykernel_launcher.py:14: MatplotlibDeprecationWarning: Adding an axes using the same arguments as a previous axes currently reuses the earlier instance.  In a future version, a new instance will always be created and returned.  Meanwhile, this warning can be suppressed, and the future behavior ensured, by passing a unique label to each axes instance.\n",
      "  \n"
     ]
    },
    {
     "data": {
      "image/png": "[encoded data removed]",
      "text/plain": [
       "<Figure size 432x288 with 2 Axes>"
      ]
     },
     "metadata": {
      "needs_background": "light"
     },
     "output_type": "display_data"
    },
    {
     "name": "stdout",
     "output_type": "stream",
     "text": [
      "les valeurs aleatoires 1000 10 leur moyenne [0.1003190819304756] leur variance [0.010042051939196737]\n",
      "les valeurs aleatoires 1000 100 leur moyenne [0.009744639508278072] leur variance [9.203884203866854e-05]\n",
      "les valeurs aleatoires 1000 1000 leur moyenne [0.0010052575117612957] leur variance [1.0343668170032907e-06]\n",
      "les valeurs aleatoires 1000 10000 leur moyenne [0.00010201996780855303] leur variance [1.0488188026070842e-08]\n",
      "les valeurs aleatoires 10000 10 leur moyenne [0.09923341109020364] leur variance [0.00979849362969564]\n",
      "les valeurs aleatoires 10000 100 leur moyenne [0.01015978411914112] leur variance [0.00010380775257066852]\n",
      "les valeurs aleatoires 10000 1000 leur moyenne [0.0010126942348364276] leur variance [1.020223164650124e-06]\n",
      "les valeurs aleatoires 10000 10000 leur moyenne [0.00010158273509076056] leur variance [1.0348598528786752e-08]\n",
      "les valeurs aleatoires 100000 10 leur moyenne [0.09953275609713697] leur variance [0.00998295174875677]\n",
      "les valeurs aleatoires 100000 100 leur moyenne [0.009931578755965828] leur variance [9.865252341667025e-05]\n",
      "les valeurs aleatoires 100000 1000 leur moyenne [0.0010037906751027327] leur variance [1.0116848189540083e-06]\n",
      "les valeurs aleatoires 100000 10000 leur moyenne [9.95957644268071e-05] leur variance [9.954952356420056e-09]\n",
      "les valeurs aleatoires 1000000 10 leur moyenne [0.10006987369174618] leur variance [0.010008026680839829]\n",
      "les valeurs aleatoires 1000000 100 leur moyenne [0.010000009621078212] leur variance [9.968561840721199e-05]\n",
      "les valeurs aleatoires 1000000 1000 leur moyenne [0.0010009917968679652] leur variance [1.0021358773090215e-06]\n",
      "les valeurs aleatoires 1000000 10000 leur moyenne [0.0001000501202916352] leur variance [1.0006478844837119e-08]\n"
     ]
    }
   ],
   "source": [
    "xn=[[]]*4\n",
    "titatable=[[]]*4\n",
    "from ipykernel import kernelapp as app\n",
    "lamda=[10,100,1000,10000]\n",
    "\n",
    "for i in range(4):\n",
    "    for j in range(4):\n",
    "        t=creat_alea_table(n[i],lamda[j])\n",
    "        x=Xn(t,n[i])\n",
    "        xn[i].append([x])\n",
    "        titatable[i].append([On(t,n[i],x)])\n",
    "        plt.subplot(2,2,1)\n",
    "        plt.plot(lamda[j],titatable[i][j],'ro')\n",
    "        plt.subplot(2,2,2)\n",
    "        plt.plot(lamda[j],x,'bo')\n",
    "plt.show()\n",
    "li=0\n",
    "ni=0\n",
    "ii=0\n",
    "while ii<16:\n",
    "    if li==4:\n",
    "        li=0\n",
    "        ni+=1\n",
    "    print ('les valeurs aleatoires {} {} leur moyenne {} leur variance {}'.format(n[ni],lamda[li],xn[0][ii],titatable[0][ii]))\n",
    "    ii+=1\n",
    "    li+=1\n",
    "    "
   ]
  },
  {
   "cell_type": "code",
   "execution_count": 13,
   "metadata": {},
   "outputs": [
    {
     "name": "stdout",
     "output_type": "stream",
     "text": [
      "[2 5 2 1 3]\n"
     ]
    }
   ],
   "source": [
    "def creat_alea_table(n):\n",
    "    return np.random.randint(0,n+1,n)\n",
    "print(creat_alea_table(5))"
   ]
  },
  {
   "cell_type": "code",
   "execution_count": 50,
   "metadata": {},
   "outputs": [
    {
     "data": {
      "image/png": "[encoded data removed]",
      "text/plain": [
       "<Figure size 432x288 with 2 Axes>"
      ]
     },
     "metadata": {
      "needs_background": "light"
     },
     "output_type": "display_data"
    },
    {
     "name": "stdout",
     "output_type": "stream",
     "text": [
      "valeur aleatoire 1000 leur moyenne 489.469 leur variance 79581.26103899999\n",
      "valeur aleatoire 10000 leur moyenne 4992.5838 leur variance 8216691.531777532\n",
      "valeur aleatoire 100000 leur moyenne 50025.18035 leur variance 831824645.2716575\n",
      "valeur aleatoire 1000000 leur moyenne 499753.446265 leur variance 83446027491.6569\n"
     ]
    }
   ],
   "source": [
    "plt.style.use('seaborn-deep')\n",
    "xn=[]\n",
    "tita=[]\n",
    "for i in n:\n",
    "    t=creat_alea_table(i)\n",
    "    x=Xn(t,i)\n",
    "    xn.append(x)\n",
    "    tita.append(On(t,i,x))\n",
    "plt.subplot(2,2,1)\n",
    "plt.plot(n,tita,'r*')\n",
    "plt.subplot(2,2,2)\n",
    "plt.plot(n,xn,'b*')\n",
    "\n",
    "plt.show()\n",
    "for i in range(len(n)):\n",
    "    print ('valeur aleatoire {} leur moyenne {} leur variance {}'.format(n[i],xn[i],tita[i]))\n"
   ]
  },
  {
   "cell_type": "code",
   "execution_count": 51,
   "metadata": {},
   "outputs": [],
   "source": [
    "def creat_tabe(n):\n",
    "    x=[]\n",
    "    t=np.random.uniform(0, 1,n)\n",
    "    for i in t:\n",
    "        if i<0.3:\n",
    "            x.append(0)\n",
    "        elif i<0.5:\n",
    "            x.append(2)\n",
    "        else:\n",
    "            x.append(6)\n",
    "    return x"
   ]
  },
  {
   "cell_type": "code",
   "execution_count": 52,
   "metadata": {},
   "outputs": [
    {
     "name": "stdout",
     "output_type": "stream",
     "text": [
      "valeur aleatoire 1000 leur moyenne 3.376 leur variance 7.258624000000026\n",
      "valeur aleatoire 10000 leur moyenne 3.3804 leur variance 7.273695839999886\n",
      "valeur aleatoire 100000 leur moyenne 3.39412 leur variance 7.243229425607208\n",
      "valeur aleatoire 1000000 leur moyenne 3.40258 leur variance 7.235673343501127\n"
     ]
    }
   ],
   "source": [
    "xn=[]\n",
    "tita=[]\n",
    "for i in n:\n",
    "    t=creat_tabe(i)\n",
    "    x=Xn(t,i)\n",
    "    xn.append(x)\n",
    "    tita.append(On(t,i,x))\n",
    "for i in range(len(n)):\n",
    "    print ('valeur aleatoire {} leur moyenne {} leur variance {}'.format(n[i],xn[i],tita[i]))\n"
   ]
  },
  {
   "cell_type": "code",
   "execution_count": null,
   "metadata": {},
   "outputs": [],
   "source": []
  }
 ],
 "metadata": {
  "kernelspec": {
   "display_name": "Python 3",
   "language": "python",
   "name": "python3"
  },
  "language_info": {
   "codemirror_mode": {
    "name": "ipython",
    "version": 3
   },
   "file_extension": ".py",
   "mimetype": "text/x-python",
   "name": "python",
   "nbconvert_exporter": "python",
   "pygments_lexer": "ipython3",
   "version": "3.7.3"
  }
 },
 "nbformat": 4,
 "nbformat_minor": 4
}
